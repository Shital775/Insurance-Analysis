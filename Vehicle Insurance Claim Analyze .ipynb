{
 "cells": [
  {
   "cell_type": "markdown",
   "id": "e90c3956",
   "metadata": {},
   "source": [
    "# Project Name : Vehicles Insurance Claim Data"
   ]
  },
  {
   "cell_type": "markdown",
   "id": "48a01d2b",
   "metadata": {},
   "source": [
    "# Aim : \n",
    "\n",
    "To describe and analyze and Draw the plots of all dataset\n",
    "    \n"
   ]
  },
  {
   "cell_type": "markdown",
   "id": "a60d788a",
   "metadata": {},
   "source": [
    "# Libraries Info:\n",
    "\n",
    "i will describe and analyze all the data with the help of Two libraries like....,\n",
    "\n",
    "i used pandas library import pandas as pd\n",
    "\n",
    "i used matplotlib.pyplot library import matplotlib.pyplot as plt"
   ]
  },
  {
   "cell_type": "code",
   "execution_count": 3,
   "id": "06482d09",
   "metadata": {},
   "outputs": [],
   "source": [
    "import pandas as pd \n",
    "import matplotlib.pyplot as plt"
   ]
  },
  {
   "cell_type": "markdown",
   "id": "cb585031",
   "metadata": {},
   "source": [
    "I used pd.read_excel for collect the excel file with thier link from file manager"
   ]
  },
  {
   "cell_type": "code",
   "execution_count": 51,
   "id": "c33357e0",
   "metadata": {
    "scrolled": true
   },
   "outputs": [
    {
     "data": {
      "text/html": [
       "<div>\n",
       "<style scoped>\n",
       "    .dataframe tbody tr th:only-of-type {\n",
       "        vertical-align: middle;\n",
       "    }\n",
       "\n",
       "    .dataframe tbody tr th {\n",
       "        vertical-align: top;\n",
       "    }\n",
       "\n",
       "    .dataframe thead th {\n",
       "        text-align: right;\n",
       "    }\n",
       "</style>\n",
       "<table border=\"1\" class=\"dataframe\">\n",
       "  <thead>\n",
       "    <tr style=\"text-align: right;\">\n",
       "      <th></th>\n",
       "      <th>Age</th>\n",
       "      <th>Policy_number</th>\n",
       "      <th>Policy_bind_date</th>\n",
       "      <th>Policy_state</th>\n",
       "      <th>Policy_annual_premium</th>\n",
       "      <th>Insured_zip</th>\n",
       "      <th>Insured_gender</th>\n",
       "      <th>Insured_occupation</th>\n",
       "      <th>Insured_relationship</th>\n",
       "      <th>Incident_date</th>\n",
       "      <th>...</th>\n",
       "      <th>Incident_severity</th>\n",
       "      <th>Incident_state</th>\n",
       "      <th>Incident_city</th>\n",
       "      <th>Incident_location</th>\n",
       "      <th>Number_of_vehicles_involved</th>\n",
       "      <th>Witnesses</th>\n",
       "      <th>Total_claim_amount</th>\n",
       "      <th>Injury_claim</th>\n",
       "      <th>Property_claim</th>\n",
       "      <th>Vehicle_claim</th>\n",
       "    </tr>\n",
       "  </thead>\n",
       "  <tbody>\n",
       "    <tr>\n",
       "      <th>0</th>\n",
       "      <td>48</td>\n",
       "      <td>521585</td>\n",
       "      <td>2014-10-17</td>\n",
       "      <td>OH</td>\n",
       "      <td>1406.91</td>\n",
       "      <td>466132</td>\n",
       "      <td>MALE</td>\n",
       "      <td>craft-repair</td>\n",
       "      <td>husband</td>\n",
       "      <td>2015-01-25</td>\n",
       "      <td>...</td>\n",
       "      <td>Major Damage</td>\n",
       "      <td>SC</td>\n",
       "      <td>Columbus</td>\n",
       "      <td>9935 4th Drive</td>\n",
       "      <td>1</td>\n",
       "      <td>2</td>\n",
       "      <td>71610</td>\n",
       "      <td>6510</td>\n",
       "      <td>13020</td>\n",
       "      <td>52080</td>\n",
       "    </tr>\n",
       "    <tr>\n",
       "      <th>1</th>\n",
       "      <td>42</td>\n",
       "      <td>342868</td>\n",
       "      <td>2006-06-27</td>\n",
       "      <td>IN</td>\n",
       "      <td>1197.22</td>\n",
       "      <td>468176</td>\n",
       "      <td>MALE</td>\n",
       "      <td>machine-op-inspct</td>\n",
       "      <td>other-relative</td>\n",
       "      <td>2015-01-21</td>\n",
       "      <td>...</td>\n",
       "      <td>Minor Damage</td>\n",
       "      <td>VA</td>\n",
       "      <td>Riverwood</td>\n",
       "      <td>6608 MLK Hwy</td>\n",
       "      <td>1</td>\n",
       "      <td>0</td>\n",
       "      <td>5070</td>\n",
       "      <td>780</td>\n",
       "      <td>780</td>\n",
       "      <td>3510</td>\n",
       "    </tr>\n",
       "    <tr>\n",
       "      <th>2</th>\n",
       "      <td>29</td>\n",
       "      <td>687698</td>\n",
       "      <td>2000-09-06</td>\n",
       "      <td>OH</td>\n",
       "      <td>1413.14</td>\n",
       "      <td>430632</td>\n",
       "      <td>FEMALE</td>\n",
       "      <td>sales</td>\n",
       "      <td>own-child</td>\n",
       "      <td>2015-02-22</td>\n",
       "      <td>...</td>\n",
       "      <td>Minor Damage</td>\n",
       "      <td>NY</td>\n",
       "      <td>Columbus</td>\n",
       "      <td>7121 Francis Lane</td>\n",
       "      <td>3</td>\n",
       "      <td>3</td>\n",
       "      <td>34650</td>\n",
       "      <td>7700</td>\n",
       "      <td>3850</td>\n",
       "      <td>23100</td>\n",
       "    </tr>\n",
       "    <tr>\n",
       "      <th>3</th>\n",
       "      <td>41</td>\n",
       "      <td>227811</td>\n",
       "      <td>1990-05-25</td>\n",
       "      <td>IL</td>\n",
       "      <td>1415.74</td>\n",
       "      <td>608117</td>\n",
       "      <td>FEMALE</td>\n",
       "      <td>armed-forces</td>\n",
       "      <td>unmarried</td>\n",
       "      <td>2015-01-10</td>\n",
       "      <td>...</td>\n",
       "      <td>Major Damage</td>\n",
       "      <td>OH</td>\n",
       "      <td>Arlington</td>\n",
       "      <td>6956 Maple Drive</td>\n",
       "      <td>1</td>\n",
       "      <td>2</td>\n",
       "      <td>63400</td>\n",
       "      <td>6340</td>\n",
       "      <td>6340</td>\n",
       "      <td>50720</td>\n",
       "    </tr>\n",
       "    <tr>\n",
       "      <th>4</th>\n",
       "      <td>44</td>\n",
       "      <td>367455</td>\n",
       "      <td>2014-06-06</td>\n",
       "      <td>IL</td>\n",
       "      <td>1583.91</td>\n",
       "      <td>610706</td>\n",
       "      <td>MALE</td>\n",
       "      <td>sales</td>\n",
       "      <td>unmarried</td>\n",
       "      <td>2015-02-17</td>\n",
       "      <td>...</td>\n",
       "      <td>Minor Damage</td>\n",
       "      <td>NY</td>\n",
       "      <td>Arlington</td>\n",
       "      <td>3041 3rd Ave</td>\n",
       "      <td>1</td>\n",
       "      <td>1</td>\n",
       "      <td>6500</td>\n",
       "      <td>1300</td>\n",
       "      <td>650</td>\n",
       "      <td>4550</td>\n",
       "    </tr>\n",
       "    <tr>\n",
       "      <th>...</th>\n",
       "      <td>...</td>\n",
       "      <td>...</td>\n",
       "      <td>...</td>\n",
       "      <td>...</td>\n",
       "      <td>...</td>\n",
       "      <td>...</td>\n",
       "      <td>...</td>\n",
       "      <td>...</td>\n",
       "      <td>...</td>\n",
       "      <td>...</td>\n",
       "      <td>...</td>\n",
       "      <td>...</td>\n",
       "      <td>...</td>\n",
       "      <td>...</td>\n",
       "      <td>...</td>\n",
       "      <td>...</td>\n",
       "      <td>...</td>\n",
       "      <td>...</td>\n",
       "      <td>...</td>\n",
       "      <td>...</td>\n",
       "      <td>...</td>\n",
       "    </tr>\n",
       "    <tr>\n",
       "      <th>995</th>\n",
       "      <td>38</td>\n",
       "      <td>941851</td>\n",
       "      <td>1991-07-16</td>\n",
       "      <td>OH</td>\n",
       "      <td>1310.80</td>\n",
       "      <td>431289</td>\n",
       "      <td>FEMALE</td>\n",
       "      <td>craft-repair</td>\n",
       "      <td>unmarried</td>\n",
       "      <td>2015-02-22</td>\n",
       "      <td>...</td>\n",
       "      <td>Minor Damage</td>\n",
       "      <td>NC</td>\n",
       "      <td>Northbrook</td>\n",
       "      <td>6045 Andromedia St</td>\n",
       "      <td>1</td>\n",
       "      <td>1</td>\n",
       "      <td>87200</td>\n",
       "      <td>17440</td>\n",
       "      <td>8720</td>\n",
       "      <td>61040</td>\n",
       "    </tr>\n",
       "    <tr>\n",
       "      <th>996</th>\n",
       "      <td>41</td>\n",
       "      <td>186934</td>\n",
       "      <td>2014-01-05</td>\n",
       "      <td>IL</td>\n",
       "      <td>1436.79</td>\n",
       "      <td>608177</td>\n",
       "      <td>FEMALE</td>\n",
       "      <td>prof-specialty</td>\n",
       "      <td>wife</td>\n",
       "      <td>2015-01-24</td>\n",
       "      <td>...</td>\n",
       "      <td>Major Damage</td>\n",
       "      <td>SC</td>\n",
       "      <td>Northbend</td>\n",
       "      <td>3092 Texas Drive</td>\n",
       "      <td>1</td>\n",
       "      <td>3</td>\n",
       "      <td>108480</td>\n",
       "      <td>18080</td>\n",
       "      <td>18080</td>\n",
       "      <td>72320</td>\n",
       "    </tr>\n",
       "    <tr>\n",
       "      <th>997</th>\n",
       "      <td>34</td>\n",
       "      <td>918516</td>\n",
       "      <td>2003-02-17</td>\n",
       "      <td>OH</td>\n",
       "      <td>1383.49</td>\n",
       "      <td>442797</td>\n",
       "      <td>FEMALE</td>\n",
       "      <td>armed-forces</td>\n",
       "      <td>other-relative</td>\n",
       "      <td>2015-01-23</td>\n",
       "      <td>...</td>\n",
       "      <td>Minor Damage</td>\n",
       "      <td>NC</td>\n",
       "      <td>Arlington</td>\n",
       "      <td>7629 5th St</td>\n",
       "      <td>3</td>\n",
       "      <td>3</td>\n",
       "      <td>67500</td>\n",
       "      <td>7500</td>\n",
       "      <td>7500</td>\n",
       "      <td>52500</td>\n",
       "    </tr>\n",
       "    <tr>\n",
       "      <th>998</th>\n",
       "      <td>62</td>\n",
       "      <td>533940</td>\n",
       "      <td>2011-11-18</td>\n",
       "      <td>IL</td>\n",
       "      <td>1356.92</td>\n",
       "      <td>441714</td>\n",
       "      <td>MALE</td>\n",
       "      <td>handlers-cleaners</td>\n",
       "      <td>wife</td>\n",
       "      <td>2015-02-26</td>\n",
       "      <td>...</td>\n",
       "      <td>Major Damage</td>\n",
       "      <td>NY</td>\n",
       "      <td>Arlington</td>\n",
       "      <td>6128 Elm Lane</td>\n",
       "      <td>1</td>\n",
       "      <td>1</td>\n",
       "      <td>46980</td>\n",
       "      <td>5220</td>\n",
       "      <td>5220</td>\n",
       "      <td>36540</td>\n",
       "    </tr>\n",
       "    <tr>\n",
       "      <th>999</th>\n",
       "      <td>60</td>\n",
       "      <td>556080</td>\n",
       "      <td>1996-11-11</td>\n",
       "      <td>OH</td>\n",
       "      <td>766.19</td>\n",
       "      <td>612260</td>\n",
       "      <td>FEMALE</td>\n",
       "      <td>sales</td>\n",
       "      <td>husband</td>\n",
       "      <td>2015-02-26</td>\n",
       "      <td>...</td>\n",
       "      <td>Minor Damage</td>\n",
       "      <td>WV</td>\n",
       "      <td>Columbus</td>\n",
       "      <td>1416 Cherokee Ridge</td>\n",
       "      <td>1</td>\n",
       "      <td>3</td>\n",
       "      <td>5060</td>\n",
       "      <td>460</td>\n",
       "      <td>920</td>\n",
       "      <td>3680</td>\n",
       "    </tr>\n",
       "  </tbody>\n",
       "</table>\n",
       "<p>1000 rows × 22 columns</p>\n",
       "</div>"
      ],
      "text/plain": [
       "     Age  Policy_number Policy_bind_date Policy_state  Policy_annual_premium  \\\n",
       "0     48         521585       2014-10-17           OH                1406.91   \n",
       "1     42         342868       2006-06-27           IN                1197.22   \n",
       "2     29         687698       2000-09-06           OH                1413.14   \n",
       "3     41         227811       1990-05-25           IL                1415.74   \n",
       "4     44         367455       2014-06-06           IL                1583.91   \n",
       "..   ...            ...              ...          ...                    ...   \n",
       "995   38         941851       1991-07-16           OH                1310.80   \n",
       "996   41         186934       2014-01-05           IL                1436.79   \n",
       "997   34         918516       2003-02-17           OH                1383.49   \n",
       "998   62         533940       2011-11-18           IL                1356.92   \n",
       "999   60         556080       1996-11-11           OH                 766.19   \n",
       "\n",
       "     Insured_zip Insured_gender Insured_occupation Insured_relationship  \\\n",
       "0         466132           MALE       craft-repair              husband   \n",
       "1         468176           MALE  machine-op-inspct       other-relative   \n",
       "2         430632         FEMALE              sales            own-child   \n",
       "3         608117         FEMALE       armed-forces            unmarried   \n",
       "4         610706           MALE              sales            unmarried   \n",
       "..           ...            ...                ...                  ...   \n",
       "995       431289         FEMALE       craft-repair            unmarried   \n",
       "996       608177         FEMALE     prof-specialty                 wife   \n",
       "997       442797         FEMALE       armed-forces       other-relative   \n",
       "998       441714           MALE  handlers-cleaners                 wife   \n",
       "999       612260         FEMALE              sales              husband   \n",
       "\n",
       "    Incident_date  ... Incident_severity Incident_state Incident_city  \\\n",
       "0      2015-01-25  ...      Major Damage             SC      Columbus   \n",
       "1      2015-01-21  ...      Minor Damage             VA     Riverwood   \n",
       "2      2015-02-22  ...      Minor Damage             NY      Columbus   \n",
       "3      2015-01-10  ...      Major Damage             OH     Arlington   \n",
       "4      2015-02-17  ...      Minor Damage             NY     Arlington   \n",
       "..            ...  ...               ...            ...           ...   \n",
       "995    2015-02-22  ...      Minor Damage             NC    Northbrook   \n",
       "996    2015-01-24  ...      Major Damage             SC     Northbend   \n",
       "997    2015-01-23  ...      Minor Damage             NC     Arlington   \n",
       "998    2015-02-26  ...      Major Damage             NY     Arlington   \n",
       "999    2015-02-26  ...      Minor Damage             WV      Columbus   \n",
       "\n",
       "       Incident_location Number_of_vehicles_involved Witnesses  \\\n",
       "0         9935 4th Drive                           1         2   \n",
       "1           6608 MLK Hwy                           1         0   \n",
       "2      7121 Francis Lane                           3         3   \n",
       "3       6956 Maple Drive                           1         2   \n",
       "4           3041 3rd Ave                           1         1   \n",
       "..                   ...                         ...       ...   \n",
       "995   6045 Andromedia St                           1         1   \n",
       "996     3092 Texas Drive                           1         3   \n",
       "997          7629 5th St                           3         3   \n",
       "998        6128 Elm Lane                           1         1   \n",
       "999  1416 Cherokee Ridge                           1         3   \n",
       "\n",
       "     Total_claim_amount  Injury_claim  Property_claim  Vehicle_claim  \n",
       "0                 71610          6510           13020          52080  \n",
       "1                  5070           780             780           3510  \n",
       "2                 34650          7700            3850          23100  \n",
       "3                 63400          6340            6340          50720  \n",
       "4                  6500          1300             650           4550  \n",
       "..                  ...           ...             ...            ...  \n",
       "995               87200         17440            8720          61040  \n",
       "996              108480         18080           18080          72320  \n",
       "997               67500          7500            7500          52500  \n",
       "998               46980          5220            5220          36540  \n",
       "999                5060           460             920           3680  \n",
       "\n",
       "[1000 rows x 22 columns]"
      ]
     },
     "execution_count": 51,
     "metadata": {},
     "output_type": "execute_result"
    }
   ],
   "source": [
    "df = pd.read_excel(\"C:\\Project Files (Shital)\\Vehicle Insurance Claims Data.xlsx\")\n",
    "df                     "
   ]
  },
  {
   "cell_type": "markdown",
   "id": "e4ffdb53",
   "metadata": {},
   "source": [
    "df.shape is used for show the shape of whole data such as 1000 rows and 24 columns are their"
   ]
  },
  {
   "cell_type": "code",
   "execution_count": 52,
   "id": "0bff1899",
   "metadata": {
    "scrolled": false
   },
   "outputs": [
    {
     "data": {
      "text/plain": [
       "(1000, 22)"
      ]
     },
     "execution_count": 52,
     "metadata": {},
     "output_type": "execute_result"
    }
   ],
   "source": [
    "df.shape"
   ]
  },
  {
   "cell_type": "markdown",
   "id": "ed2aeb0c",
   "metadata": {},
   "source": [
    "the len() function is used for length of whole data"
   ]
  },
  {
   "cell_type": "code",
   "execution_count": 53,
   "id": "a4e5c6cf",
   "metadata": {
    "scrolled": true
   },
   "outputs": [
    {
     "name": "stdout",
     "output_type": "stream",
     "text": [
      "1000\n"
     ]
    }
   ],
   "source": [
    "print(len(df))"
   ]
  },
  {
   "cell_type": "markdown",
   "id": "c1ef5df7",
   "metadata": {},
   "source": [
    "the replace() function is use to replace the values "
   ]
  },
  {
   "cell_type": "code",
   "execution_count": 55,
   "id": "9a6ad600",
   "metadata": {},
   "outputs": [
    {
     "data": {
      "text/html": [
       "<div>\n",
       "<style scoped>\n",
       "    .dataframe tbody tr th:only-of-type {\n",
       "        vertical-align: middle;\n",
       "    }\n",
       "\n",
       "    .dataframe tbody tr th {\n",
       "        vertical-align: top;\n",
       "    }\n",
       "\n",
       "    .dataframe thead th {\n",
       "        text-align: right;\n",
       "    }\n",
       "</style>\n",
       "<table border=\"1\" class=\"dataframe\">\n",
       "  <thead>\n",
       "    <tr style=\"text-align: right;\">\n",
       "      <th></th>\n",
       "      <th>Age</th>\n",
       "      <th>Policy_number</th>\n",
       "      <th>Policy_bind_date</th>\n",
       "      <th>Policy_state</th>\n",
       "      <th>Policy_annual_premium</th>\n",
       "      <th>Insured_zip</th>\n",
       "      <th>Insured_gender</th>\n",
       "      <th>Insured_occupation</th>\n",
       "      <th>Insured_relationship</th>\n",
       "      <th>Incident_date</th>\n",
       "      <th>...</th>\n",
       "      <th>Incident_severity</th>\n",
       "      <th>Incident_state</th>\n",
       "      <th>Incident_city</th>\n",
       "      <th>Incident_location</th>\n",
       "      <th>Number_of_vehicles_involved</th>\n",
       "      <th>Witnesses</th>\n",
       "      <th>Total_claim_amount</th>\n",
       "      <th>Injury_claim</th>\n",
       "      <th>Property_claim</th>\n",
       "      <th>Vehicle_claim</th>\n",
       "    </tr>\n",
       "  </thead>\n",
       "  <tbody>\n",
       "    <tr>\n",
       "      <th>0</th>\n",
       "      <td>48</td>\n",
       "      <td>521585</td>\n",
       "      <td>2014-10-17</td>\n",
       "      <td>Ohio</td>\n",
       "      <td>1406.91</td>\n",
       "      <td>466132</td>\n",
       "      <td>MALE</td>\n",
       "      <td>craft-repair</td>\n",
       "      <td>husband</td>\n",
       "      <td>2015-01-25</td>\n",
       "      <td>...</td>\n",
       "      <td>Major Damage</td>\n",
       "      <td>SC</td>\n",
       "      <td>Columbus</td>\n",
       "      <td>9935 4th Drive</td>\n",
       "      <td>1</td>\n",
       "      <td>2</td>\n",
       "      <td>71610</td>\n",
       "      <td>6510</td>\n",
       "      <td>13020</td>\n",
       "      <td>52080</td>\n",
       "    </tr>\n",
       "    <tr>\n",
       "      <th>1</th>\n",
       "      <td>42</td>\n",
       "      <td>342868</td>\n",
       "      <td>2006-06-27</td>\n",
       "      <td>in</td>\n",
       "      <td>1197.22</td>\n",
       "      <td>468176</td>\n",
       "      <td>MALE</td>\n",
       "      <td>machine-op-inspct</td>\n",
       "      <td>other-relative</td>\n",
       "      <td>2015-01-21</td>\n",
       "      <td>...</td>\n",
       "      <td>Minor Damage</td>\n",
       "      <td>VA</td>\n",
       "      <td>Riverwood</td>\n",
       "      <td>6608 MLK Hwy</td>\n",
       "      <td>1</td>\n",
       "      <td>0</td>\n",
       "      <td>5070</td>\n",
       "      <td>780</td>\n",
       "      <td>780</td>\n",
       "      <td>3510</td>\n",
       "    </tr>\n",
       "    <tr>\n",
       "      <th>2</th>\n",
       "      <td>29</td>\n",
       "      <td>687698</td>\n",
       "      <td>2000-09-06</td>\n",
       "      <td>Ohio</td>\n",
       "      <td>1413.14</td>\n",
       "      <td>430632</td>\n",
       "      <td>FEMALE</td>\n",
       "      <td>sales</td>\n",
       "      <td>own-child</td>\n",
       "      <td>2015-02-22</td>\n",
       "      <td>...</td>\n",
       "      <td>Minor Damage</td>\n",
       "      <td>NY</td>\n",
       "      <td>Columbus</td>\n",
       "      <td>7121 Francis Lane</td>\n",
       "      <td>3</td>\n",
       "      <td>3</td>\n",
       "      <td>34650</td>\n",
       "      <td>7700</td>\n",
       "      <td>3850</td>\n",
       "      <td>23100</td>\n",
       "    </tr>\n",
       "    <tr>\n",
       "      <th>3</th>\n",
       "      <td>41</td>\n",
       "      <td>227811</td>\n",
       "      <td>1990-05-25</td>\n",
       "      <td>Illinois</td>\n",
       "      <td>1415.74</td>\n",
       "      <td>608117</td>\n",
       "      <td>FEMALE</td>\n",
       "      <td>armed-forces</td>\n",
       "      <td>unmarried</td>\n",
       "      <td>2015-01-10</td>\n",
       "      <td>...</td>\n",
       "      <td>Major Damage</td>\n",
       "      <td>OH</td>\n",
       "      <td>Arlington</td>\n",
       "      <td>6956 Maple Drive</td>\n",
       "      <td>1</td>\n",
       "      <td>2</td>\n",
       "      <td>63400</td>\n",
       "      <td>6340</td>\n",
       "      <td>6340</td>\n",
       "      <td>50720</td>\n",
       "    </tr>\n",
       "    <tr>\n",
       "      <th>4</th>\n",
       "      <td>44</td>\n",
       "      <td>367455</td>\n",
       "      <td>2014-06-06</td>\n",
       "      <td>Illinois</td>\n",
       "      <td>1583.91</td>\n",
       "      <td>610706</td>\n",
       "      <td>MALE</td>\n",
       "      <td>sales</td>\n",
       "      <td>unmarried</td>\n",
       "      <td>2015-02-17</td>\n",
       "      <td>...</td>\n",
       "      <td>Minor Damage</td>\n",
       "      <td>NY</td>\n",
       "      <td>Arlington</td>\n",
       "      <td>3041 3rd Ave</td>\n",
       "      <td>1</td>\n",
       "      <td>1</td>\n",
       "      <td>6500</td>\n",
       "      <td>1300</td>\n",
       "      <td>650</td>\n",
       "      <td>4550</td>\n",
       "    </tr>\n",
       "  </tbody>\n",
       "</table>\n",
       "<p>5 rows × 22 columns</p>\n",
       "</div>"
      ],
      "text/plain": [
       "   Age  Policy_number Policy_bind_date Policy_state  Policy_annual_premium  \\\n",
       "0   48         521585       2014-10-17         Ohio                1406.91   \n",
       "1   42         342868       2006-06-27           in                1197.22   \n",
       "2   29         687698       2000-09-06         Ohio                1413.14   \n",
       "3   41         227811       1990-05-25     Illinois                1415.74   \n",
       "4   44         367455       2014-06-06     Illinois                1583.91   \n",
       "\n",
       "   Insured_zip Insured_gender Insured_occupation Insured_relationship  \\\n",
       "0       466132           MALE       craft-repair              husband   \n",
       "1       468176           MALE  machine-op-inspct       other-relative   \n",
       "2       430632         FEMALE              sales            own-child   \n",
       "3       608117         FEMALE       armed-forces            unmarried   \n",
       "4       610706           MALE              sales            unmarried   \n",
       "\n",
       "  Incident_date  ... Incident_severity Incident_state Incident_city  \\\n",
       "0    2015-01-25  ...      Major Damage             SC      Columbus   \n",
       "1    2015-01-21  ...      Minor Damage             VA     Riverwood   \n",
       "2    2015-02-22  ...      Minor Damage             NY      Columbus   \n",
       "3    2015-01-10  ...      Major Damage             OH     Arlington   \n",
       "4    2015-02-17  ...      Minor Damage             NY     Arlington   \n",
       "\n",
       "   Incident_location Number_of_vehicles_involved Witnesses  \\\n",
       "0     9935 4th Drive                           1         2   \n",
       "1       6608 MLK Hwy                           1         0   \n",
       "2  7121 Francis Lane                           3         3   \n",
       "3   6956 Maple Drive                           1         2   \n",
       "4       3041 3rd Ave                           1         1   \n",
       "\n",
       "   Total_claim_amount  Injury_claim  Property_claim  Vehicle_claim  \n",
       "0               71610          6510           13020          52080  \n",
       "1                5070           780             780           3510  \n",
       "2               34650          7700            3850          23100  \n",
       "3               63400          6340            6340          50720  \n",
       "4                6500          1300             650           4550  \n",
       "\n",
       "[5 rows x 22 columns]"
      ]
     },
     "execution_count": 55,
     "metadata": {},
     "output_type": "execute_result"
    }
   ],
   "source": [
    "df['Policy_state'] = df['Policy_state'].replace({\n",
    "    \"OH\":\"Ohio\",\n",
    "    \"IN\":\"in\",\n",
    "    \"IL\":\"Illinois\"\n",
    "        \n",
    "\n",
    "},regex=True)\n",
    "\n",
    "df.head()"
   ]
  },
  {
   "cell_type": "markdown",
   "id": "3c35cea3",
   "metadata": {},
   "source": [
    "the replace() function is use to replace the multiple values at a time"
   ]
  },
  {
   "cell_type": "code",
   "execution_count": 56,
   "id": "be87e671",
   "metadata": {},
   "outputs": [
    {
     "data": {
      "text/html": [
       "<div>\n",
       "<style scoped>\n",
       "    .dataframe tbody tr th:only-of-type {\n",
       "        vertical-align: middle;\n",
       "    }\n",
       "\n",
       "    .dataframe tbody tr th {\n",
       "        vertical-align: top;\n",
       "    }\n",
       "\n",
       "    .dataframe thead th {\n",
       "        text-align: right;\n",
       "    }\n",
       "</style>\n",
       "<table border=\"1\" class=\"dataframe\">\n",
       "  <thead>\n",
       "    <tr style=\"text-align: right;\">\n",
       "      <th></th>\n",
       "      <th>Age</th>\n",
       "      <th>Policy_number</th>\n",
       "      <th>Policy_bind_date</th>\n",
       "      <th>Policy_state</th>\n",
       "      <th>Policy_annual_premium</th>\n",
       "      <th>Insured_zip</th>\n",
       "      <th>Insured_gender</th>\n",
       "      <th>Insured_occupation</th>\n",
       "      <th>Insured_relationship</th>\n",
       "      <th>Incident_date</th>\n",
       "      <th>...</th>\n",
       "      <th>Incident_severity</th>\n",
       "      <th>Incident_state</th>\n",
       "      <th>Incident_city</th>\n",
       "      <th>Incident_location</th>\n",
       "      <th>Number_of_vehicles_involved</th>\n",
       "      <th>Witnesses</th>\n",
       "      <th>Total_claim_amount</th>\n",
       "      <th>Injury_claim</th>\n",
       "      <th>Property_claim</th>\n",
       "      <th>Vehicle_claim</th>\n",
       "    </tr>\n",
       "  </thead>\n",
       "  <tbody>\n",
       "    <tr>\n",
       "      <th>0</th>\n",
       "      <td>48</td>\n",
       "      <td>521585</td>\n",
       "      <td>2014-10-17</td>\n",
       "      <td>Ohio</td>\n",
       "      <td>1406.91</td>\n",
       "      <td>466132</td>\n",
       "      <td>MALE</td>\n",
       "      <td>craft-repair</td>\n",
       "      <td>husband</td>\n",
       "      <td>2015-01-25</td>\n",
       "      <td>...</td>\n",
       "      <td>Major Damage</td>\n",
       "      <td>Sorth Carolina</td>\n",
       "      <td>Columbus</td>\n",
       "      <td>9935 4th Drive</td>\n",
       "      <td>1</td>\n",
       "      <td>2</td>\n",
       "      <td>71610</td>\n",
       "      <td>6510</td>\n",
       "      <td>13020</td>\n",
       "      <td>52080</td>\n",
       "    </tr>\n",
       "    <tr>\n",
       "      <th>1</th>\n",
       "      <td>42</td>\n",
       "      <td>342868</td>\n",
       "      <td>2006-06-27</td>\n",
       "      <td>in</td>\n",
       "      <td>1197.22</td>\n",
       "      <td>468176</td>\n",
       "      <td>MALE</td>\n",
       "      <td>machine-op-inspct</td>\n",
       "      <td>other-relative</td>\n",
       "      <td>2015-01-21</td>\n",
       "      <td>...</td>\n",
       "      <td>Minor Damage</td>\n",
       "      <td>Virginia</td>\n",
       "      <td>Riverwood</td>\n",
       "      <td>6608 MLK Hwy</td>\n",
       "      <td>1</td>\n",
       "      <td>0</td>\n",
       "      <td>5070</td>\n",
       "      <td>780</td>\n",
       "      <td>780</td>\n",
       "      <td>3510</td>\n",
       "    </tr>\n",
       "    <tr>\n",
       "      <th>2</th>\n",
       "      <td>29</td>\n",
       "      <td>687698</td>\n",
       "      <td>2000-09-06</td>\n",
       "      <td>Ohio</td>\n",
       "      <td>1413.14</td>\n",
       "      <td>430632</td>\n",
       "      <td>FEMALE</td>\n",
       "      <td>sales</td>\n",
       "      <td>own-child</td>\n",
       "      <td>2015-02-22</td>\n",
       "      <td>...</td>\n",
       "      <td>Minor Damage</td>\n",
       "      <td>New York</td>\n",
       "      <td>Columbus</td>\n",
       "      <td>7121 Francis Lane</td>\n",
       "      <td>3</td>\n",
       "      <td>3</td>\n",
       "      <td>34650</td>\n",
       "      <td>7700</td>\n",
       "      <td>3850</td>\n",
       "      <td>23100</td>\n",
       "    </tr>\n",
       "    <tr>\n",
       "      <th>3</th>\n",
       "      <td>41</td>\n",
       "      <td>227811</td>\n",
       "      <td>1990-05-25</td>\n",
       "      <td>Illinois</td>\n",
       "      <td>1415.74</td>\n",
       "      <td>608117</td>\n",
       "      <td>FEMALE</td>\n",
       "      <td>armed-forces</td>\n",
       "      <td>unmarried</td>\n",
       "      <td>2015-01-10</td>\n",
       "      <td>...</td>\n",
       "      <td>Major Damage</td>\n",
       "      <td>Ohio</td>\n",
       "      <td>Arlington</td>\n",
       "      <td>6956 Maple Drive</td>\n",
       "      <td>1</td>\n",
       "      <td>2</td>\n",
       "      <td>63400</td>\n",
       "      <td>6340</td>\n",
       "      <td>6340</td>\n",
       "      <td>50720</td>\n",
       "    </tr>\n",
       "    <tr>\n",
       "      <th>4</th>\n",
       "      <td>44</td>\n",
       "      <td>367455</td>\n",
       "      <td>2014-06-06</td>\n",
       "      <td>Illinois</td>\n",
       "      <td>1583.91</td>\n",
       "      <td>610706</td>\n",
       "      <td>MALE</td>\n",
       "      <td>sales</td>\n",
       "      <td>unmarried</td>\n",
       "      <td>2015-02-17</td>\n",
       "      <td>...</td>\n",
       "      <td>Minor Damage</td>\n",
       "      <td>New York</td>\n",
       "      <td>Arlington</td>\n",
       "      <td>3041 3rd Ave</td>\n",
       "      <td>1</td>\n",
       "      <td>1</td>\n",
       "      <td>6500</td>\n",
       "      <td>1300</td>\n",
       "      <td>650</td>\n",
       "      <td>4550</td>\n",
       "    </tr>\n",
       "  </tbody>\n",
       "</table>\n",
       "<p>5 rows × 22 columns</p>\n",
       "</div>"
      ],
      "text/plain": [
       "   Age  Policy_number Policy_bind_date Policy_state  Policy_annual_premium  \\\n",
       "0   48         521585       2014-10-17         Ohio                1406.91   \n",
       "1   42         342868       2006-06-27           in                1197.22   \n",
       "2   29         687698       2000-09-06         Ohio                1413.14   \n",
       "3   41         227811       1990-05-25     Illinois                1415.74   \n",
       "4   44         367455       2014-06-06     Illinois                1583.91   \n",
       "\n",
       "   Insured_zip Insured_gender Insured_occupation Insured_relationship  \\\n",
       "0       466132           MALE       craft-repair              husband   \n",
       "1       468176           MALE  machine-op-inspct       other-relative   \n",
       "2       430632         FEMALE              sales            own-child   \n",
       "3       608117         FEMALE       armed-forces            unmarried   \n",
       "4       610706           MALE              sales            unmarried   \n",
       "\n",
       "  Incident_date  ... Incident_severity  Incident_state Incident_city  \\\n",
       "0    2015-01-25  ...      Major Damage  Sorth Carolina      Columbus   \n",
       "1    2015-01-21  ...      Minor Damage        Virginia     Riverwood   \n",
       "2    2015-02-22  ...      Minor Damage        New York      Columbus   \n",
       "3    2015-01-10  ...      Major Damage            Ohio     Arlington   \n",
       "4    2015-02-17  ...      Minor Damage        New York     Arlington   \n",
       "\n",
       "   Incident_location Number_of_vehicles_involved Witnesses  \\\n",
       "0     9935 4th Drive                           1         2   \n",
       "1       6608 MLK Hwy                           1         0   \n",
       "2  7121 Francis Lane                           3         3   \n",
       "3   6956 Maple Drive                           1         2   \n",
       "4       3041 3rd Ave                           1         1   \n",
       "\n",
       "   Total_claim_amount  Injury_claim  Property_claim  Vehicle_claim  \n",
       "0               71610          6510           13020          52080  \n",
       "1                5070           780             780           3510  \n",
       "2               34650          7700            3850          23100  \n",
       "3               63400          6340            6340          50720  \n",
       "4                6500          1300             650           4550  \n",
       "\n",
       "[5 rows x 22 columns]"
      ]
     },
     "execution_count": 56,
     "metadata": {},
     "output_type": "execute_result"
    }
   ],
   "source": [
    "df['Incident_state'] = df['Incident_state'].replace({\n",
    "    \"OH\":\"Ohio\",\n",
    "    \"IN\":\"in\",\n",
    "    \"IL\":\"Illinois\",\n",
    "    \"NY\":\"New York\",\n",
    "    \"SC\":\"Sorth Carolina\",\n",
    "    \"WV\":\"West Verginia\",\n",
    "    \"VA\":\"Virginia\",\n",
    "    \"NC\":\"North Carolina\",\n",
    "    \"PA\":\"Pennsylvania\",\n",
    "    \"OH\":\"Ohio\",\n",
    "    \"IN\":\"in\",\n",
    "    \"IL\":\"Illinois\"\n",
    "    \n",
    "\n",
    "},regex=True)\n",
    "\n",
    "df.head()"
   ]
  },
  {
   "cell_type": "markdown",
   "id": "74fd5179",
   "metadata": {},
   "source": [
    "the info() function is used for collect all info about data"
   ]
  },
  {
   "cell_type": "code",
   "execution_count": 57,
   "id": "21c08ae6",
   "metadata": {
    "scrolled": false
   },
   "outputs": [
    {
     "name": "stdout",
     "output_type": "stream",
     "text": [
      "<class 'pandas.core.frame.DataFrame'>\n",
      "RangeIndex: 1000 entries, 0 to 999\n",
      "Data columns (total 22 columns):\n",
      " #   Column                       Non-Null Count  Dtype         \n",
      "---  ------                       --------------  -----         \n",
      " 0   Age                          1000 non-null   int64         \n",
      " 1   Policy_number                1000 non-null   int64         \n",
      " 2   Policy_bind_date             1000 non-null   datetime64[ns]\n",
      " 3   Policy_state                 1000 non-null   object        \n",
      " 4   Policy_annual_premium        1000 non-null   float64       \n",
      " 5   Insured_zip                  1000 non-null   int64         \n",
      " 6   Insured_gender               1000 non-null   object        \n",
      " 7   Insured_occupation           1000 non-null   object        \n",
      " 8   Insured_relationship         1000 non-null   object        \n",
      " 9   Incident_date                1000 non-null   datetime64[ns]\n",
      " 10  Incident_type                1000 non-null   object        \n",
      " 11  Collision_type               1000 non-null   object        \n",
      " 12  Incident_severity            1000 non-null   object        \n",
      " 13  Incident_state               1000 non-null   object        \n",
      " 14  Incident_city                1000 non-null   object        \n",
      " 15  Incident_location            1000 non-null   object        \n",
      " 16  Number_of_vehicles_involved  1000 non-null   int64         \n",
      " 17  Witnesses                    1000 non-null   int64         \n",
      " 18  Total_claim_amount           1000 non-null   int64         \n",
      " 19  Injury_claim                 1000 non-null   int64         \n",
      " 20  Property_claim               1000 non-null   int64         \n",
      " 21  Vehicle_claim                1000 non-null   int64         \n",
      "dtypes: datetime64[ns](2), float64(1), int64(9), object(10)\n",
      "memory usage: 172.0+ KB\n"
     ]
    }
   ],
   "source": [
    "df.info()"
   ]
  },
  {
   "cell_type": "markdown",
   "id": "d41ea34c",
   "metadata": {},
   "source": [
    "the column function is used for showing the number of column"
   ]
  },
  {
   "cell_type": "code",
   "execution_count": 58,
   "id": "7acf1e89",
   "metadata": {
    "scrolled": false
   },
   "outputs": [
    {
     "name": "stdout",
     "output_type": "stream",
     "text": [
      "Index(['Age', 'Policy_number', 'Policy_bind_date', 'Policy_state',\n",
      "       'Policy_annual_premium', 'Insured_zip', 'Insured_gender',\n",
      "       'Insured_occupation', 'Insured_relationship', 'Incident_date',\n",
      "       'Incident_type', 'Collision_type', 'Incident_severity',\n",
      "       'Incident_state', 'Incident_city', 'Incident_location',\n",
      "       'Number_of_vehicles_involved', 'Witnesses', 'Total_claim_amount',\n",
      "       'Injury_claim', 'Property_claim', 'Vehicle_claim'],\n",
      "      dtype='object')\n"
     ]
    }
   ],
   "source": [
    "column_name = df.columns\n",
    "\n",
    "print(column_name)"
   ]
  },
  {
   "cell_type": "markdown",
   "id": "dbb6d60d",
   "metadata": {},
   "source": [
    "the head() function is used to shown initial information about data of excel file"
   ]
  },
  {
   "cell_type": "code",
   "execution_count": 59,
   "id": "386378d9",
   "metadata": {
    "scrolled": true
   },
   "outputs": [
    {
     "data": {
      "text/html": [
       "<div>\n",
       "<style scoped>\n",
       "    .dataframe tbody tr th:only-of-type {\n",
       "        vertical-align: middle;\n",
       "    }\n",
       "\n",
       "    .dataframe tbody tr th {\n",
       "        vertical-align: top;\n",
       "    }\n",
       "\n",
       "    .dataframe thead th {\n",
       "        text-align: right;\n",
       "    }\n",
       "</style>\n",
       "<table border=\"1\" class=\"dataframe\">\n",
       "  <thead>\n",
       "    <tr style=\"text-align: right;\">\n",
       "      <th></th>\n",
       "      <th>Age</th>\n",
       "      <th>Policy_number</th>\n",
       "      <th>Policy_bind_date</th>\n",
       "      <th>Policy_state</th>\n",
       "      <th>Policy_annual_premium</th>\n",
       "      <th>Insured_zip</th>\n",
       "      <th>Insured_gender</th>\n",
       "      <th>Insured_occupation</th>\n",
       "      <th>Insured_relationship</th>\n",
       "      <th>Incident_date</th>\n",
       "      <th>...</th>\n",
       "      <th>Incident_severity</th>\n",
       "      <th>Incident_state</th>\n",
       "      <th>Incident_city</th>\n",
       "      <th>Incident_location</th>\n",
       "      <th>Number_of_vehicles_involved</th>\n",
       "      <th>Witnesses</th>\n",
       "      <th>Total_claim_amount</th>\n",
       "      <th>Injury_claim</th>\n",
       "      <th>Property_claim</th>\n",
       "      <th>Vehicle_claim</th>\n",
       "    </tr>\n",
       "  </thead>\n",
       "  <tbody>\n",
       "    <tr>\n",
       "      <th>0</th>\n",
       "      <td>48</td>\n",
       "      <td>521585</td>\n",
       "      <td>2014-10-17</td>\n",
       "      <td>Ohio</td>\n",
       "      <td>1406.91</td>\n",
       "      <td>466132</td>\n",
       "      <td>MALE</td>\n",
       "      <td>craft-repair</td>\n",
       "      <td>husband</td>\n",
       "      <td>2015-01-25</td>\n",
       "      <td>...</td>\n",
       "      <td>Major Damage</td>\n",
       "      <td>Sorth Carolina</td>\n",
       "      <td>Columbus</td>\n",
       "      <td>9935 4th Drive</td>\n",
       "      <td>1</td>\n",
       "      <td>2</td>\n",
       "      <td>71610</td>\n",
       "      <td>6510</td>\n",
       "      <td>13020</td>\n",
       "      <td>52080</td>\n",
       "    </tr>\n",
       "  </tbody>\n",
       "</table>\n",
       "<p>1 rows × 22 columns</p>\n",
       "</div>"
      ],
      "text/plain": [
       "   Age  Policy_number Policy_bind_date Policy_state  Policy_annual_premium  \\\n",
       "0   48         521585       2014-10-17         Ohio                1406.91   \n",
       "\n",
       "   Insured_zip Insured_gender Insured_occupation Insured_relationship  \\\n",
       "0       466132           MALE       craft-repair              husband   \n",
       "\n",
       "  Incident_date  ... Incident_severity  Incident_state Incident_city  \\\n",
       "0    2015-01-25  ...      Major Damage  Sorth Carolina      Columbus   \n",
       "\n",
       "  Incident_location Number_of_vehicles_involved Witnesses  Total_claim_amount  \\\n",
       "0    9935 4th Drive                           1         2               71610   \n",
       "\n",
       "   Injury_claim  Property_claim  Vehicle_claim  \n",
       "0          6510           13020          52080  \n",
       "\n",
       "[1 rows x 22 columns]"
      ]
     },
     "execution_count": 59,
     "metadata": {},
     "output_type": "execute_result"
    }
   ],
   "source": [
    "df.head(1)"
   ]
  },
  {
   "cell_type": "code",
   "execution_count": 60,
   "id": "468c3a7f",
   "metadata": {
    "scrolled": false
   },
   "outputs": [
    {
     "data": {
      "text/html": [
       "<div>\n",
       "<style scoped>\n",
       "    .dataframe tbody tr th:only-of-type {\n",
       "        vertical-align: middle;\n",
       "    }\n",
       "\n",
       "    .dataframe tbody tr th {\n",
       "        vertical-align: top;\n",
       "    }\n",
       "\n",
       "    .dataframe thead th {\n",
       "        text-align: right;\n",
       "    }\n",
       "</style>\n",
       "<table border=\"1\" class=\"dataframe\">\n",
       "  <thead>\n",
       "    <tr style=\"text-align: right;\">\n",
       "      <th></th>\n",
       "      <th>Insured_gender</th>\n",
       "      <th>Insured_relationship</th>\n",
       "      <th>Total_claim_amount</th>\n",
       "    </tr>\n",
       "  </thead>\n",
       "  <tbody>\n",
       "    <tr>\n",
       "      <th>0</th>\n",
       "      <td>MALE</td>\n",
       "      <td>husband</td>\n",
       "      <td>71610</td>\n",
       "    </tr>\n",
       "    <tr>\n",
       "      <th>1</th>\n",
       "      <td>MALE</td>\n",
       "      <td>other-relative</td>\n",
       "      <td>5070</td>\n",
       "    </tr>\n",
       "    <tr>\n",
       "      <th>2</th>\n",
       "      <td>FEMALE</td>\n",
       "      <td>own-child</td>\n",
       "      <td>34650</td>\n",
       "    </tr>\n",
       "    <tr>\n",
       "      <th>3</th>\n",
       "      <td>FEMALE</td>\n",
       "      <td>unmarried</td>\n",
       "      <td>63400</td>\n",
       "    </tr>\n",
       "    <tr>\n",
       "      <th>4</th>\n",
       "      <td>MALE</td>\n",
       "      <td>unmarried</td>\n",
       "      <td>6500</td>\n",
       "    </tr>\n",
       "    <tr>\n",
       "      <th>...</th>\n",
       "      <td>...</td>\n",
       "      <td>...</td>\n",
       "      <td>...</td>\n",
       "    </tr>\n",
       "    <tr>\n",
       "      <th>995</th>\n",
       "      <td>FEMALE</td>\n",
       "      <td>unmarried</td>\n",
       "      <td>87200</td>\n",
       "    </tr>\n",
       "    <tr>\n",
       "      <th>996</th>\n",
       "      <td>FEMALE</td>\n",
       "      <td>wife</td>\n",
       "      <td>108480</td>\n",
       "    </tr>\n",
       "    <tr>\n",
       "      <th>997</th>\n",
       "      <td>FEMALE</td>\n",
       "      <td>other-relative</td>\n",
       "      <td>67500</td>\n",
       "    </tr>\n",
       "    <tr>\n",
       "      <th>998</th>\n",
       "      <td>MALE</td>\n",
       "      <td>wife</td>\n",
       "      <td>46980</td>\n",
       "    </tr>\n",
       "    <tr>\n",
       "      <th>999</th>\n",
       "      <td>FEMALE</td>\n",
       "      <td>husband</td>\n",
       "      <td>5060</td>\n",
       "    </tr>\n",
       "  </tbody>\n",
       "</table>\n",
       "<p>1000 rows × 3 columns</p>\n",
       "</div>"
      ],
      "text/plain": [
       "    Insured_gender Insured_relationship  Total_claim_amount\n",
       "0             MALE              husband               71610\n",
       "1             MALE       other-relative                5070\n",
       "2           FEMALE            own-child               34650\n",
       "3           FEMALE            unmarried               63400\n",
       "4             MALE            unmarried                6500\n",
       "..             ...                  ...                 ...\n",
       "995         FEMALE            unmarried               87200\n",
       "996         FEMALE                 wife              108480\n",
       "997         FEMALE       other-relative               67500\n",
       "998           MALE                 wife               46980\n",
       "999         FEMALE              husband                5060\n",
       "\n",
       "[1000 rows x 3 columns]"
      ]
     },
     "execution_count": 60,
     "metadata": {},
     "output_type": "execute_result"
    }
   ],
   "source": [
    "df[['Insured_gender','Insured_relationship','Total_claim_amount']]"
   ]
  },
  {
   "cell_type": "markdown",
   "id": "e073e9d6",
   "metadata": {},
   "source": [
    "the count()function is used to shown data of Insured gender such as ........,\n",
    "\n",
    "there are 537 Female and 463 Male"
   ]
  },
  {
   "cell_type": "code",
   "execution_count": 61,
   "id": "ae50d338",
   "metadata": {
    "scrolled": true
   },
   "outputs": [
    {
     "data": {
      "text/plain": [
       "FEMALE    537\n",
       "MALE      463\n",
       "Name: Insured_gender, dtype: int64"
      ]
     },
     "execution_count": 61,
     "metadata": {},
     "output_type": "execute_result"
    }
   ],
   "source": [
    "df['Insured_gender'].value_counts()"
   ]
  },
  {
   "cell_type": "markdown",
   "id": "d2e228b7",
   "metadata": {},
   "source": [
    "the count() is used to shown data of all Policy State\n",
    "such as...,\n",
    "\n",
    "the highest policy state of Ohio's count is 352\n",
    "\n",
    "the lowest policy state of in's count is 310\n"
   ]
  },
  {
   "cell_type": "code",
   "execution_count": 62,
   "id": "2e3fc568",
   "metadata": {
    "scrolled": false
   },
   "outputs": [
    {
     "data": {
      "text/plain": [
       "Ohio        352\n",
       "Illinois    338\n",
       "in          310\n",
       "Name: Policy_state, dtype: int64"
      ]
     },
     "execution_count": 62,
     "metadata": {},
     "output_type": "execute_result"
    }
   ],
   "source": [
    "df['Policy_state'].value_counts()"
   ]
  },
  {
   "cell_type": "markdown",
   "id": "33d73935",
   "metadata": {},
   "source": [
    "The count() function is used to shown data of all Incident State\n",
    "such as...,\n",
    "\n",
    "the highest Incidents occurs in New York state and it's count is 262\n",
    "\n",
    "the lowest Incident occures in Ohio state and it's count is 23\n"
   ]
  },
  {
   "cell_type": "code",
   "execution_count": 63,
   "id": "3c312bb2",
   "metadata": {
    "scrolled": true
   },
   "outputs": [
    {
     "data": {
      "text/plain": [
       "New York          262\n",
       "Sorth Carolina    248\n",
       "West Verginia     217\n",
       "Virginia          110\n",
       "North Carolina    110\n",
       "Pennsylvania       30\n",
       "Ohio               23\n",
       "Name: Incident_state, dtype: int64"
      ]
     },
     "execution_count": 63,
     "metadata": {},
     "output_type": "execute_result"
    }
   ],
   "source": [
    "df['Incident_state'].value_counts()"
   ]
  },
  {
   "cell_type": "code",
   "execution_count": 64,
   "id": "20e27329",
   "metadata": {},
   "outputs": [
    {
     "data": {
      "text/plain": [
       "Incident_severity\n",
       "Major Damage      276\n",
       "Minor Damage      354\n",
       "Total Loss        280\n",
       "Trivial Damage     90\n",
       "dtype: int64"
      ]
     },
     "execution_count": 64,
     "metadata": {},
     "output_type": "execute_result"
    }
   ],
   "source": [
    "Incident_severity= df.groupby(\"Incident_severity\")\n",
    "\n",
    "Incident_severity.size()"
   ]
  },
  {
   "cell_type": "markdown",
   "id": "d0cae43c",
   "metadata": {},
   "source": [
    "in this plot thier are Minor Damage vehicles are 350\n",
    "\n",
    "the major Damage vehicles are 275\n",
    "\n",
    "the total loss vehicles are 280\n",
    "\n",
    "the trivial damage vehicles are 70"
   ]
  },
  {
   "cell_type": "code",
   "execution_count": 65,
   "id": "84a418ce",
   "metadata": {},
   "outputs": [
    {
     "data": {
      "image/png": "[encoded data removed]",
      "text/plain": [
       "<Figure size 640x480 with 1 Axes>"
      ]
     },
     "metadata": {},
     "output_type": "display_data"
    }
   ],
   "source": [
    "df['Incident_severity'].value_counts().nlargest(11).plot(kind='bar')\n",
    "plt.title('Total Incident Severity')\n",
    "plt.xlabel('Incident_severity')\n",
    "plt.ylabel('Count')\n",
    "plt.show()"
   ]
  },
  {
   "cell_type": "markdown",
   "id": "db43d558",
   "metadata": {},
   "source": [
    "in this graph , the lowest Policy_annual_premium is 1230.69 and 1223.39 as compair to others"
   ]
  },
  {
   "cell_type": "code",
   "execution_count": 66,
   "id": "3e039ac3",
   "metadata": {
    "scrolled": false
   },
   "outputs": [
    {
     "data": {
      "image/png": "[encoded data removed]",
      "text/plain": [
       "<Figure size 640x480 with 1 Axes>"
      ]
     },
     "metadata": {},
     "output_type": "display_data"
    }
   ],
   "source": [
    "df['Policy_annual_premium'].value_counts().nlargest(11).plot(kind='bar')\n",
    "plt.title('Count of Policy annual premium')\n",
    "plt.xlabel('Policy_annual_premium')\n",
    "plt.ylabel('Count')\n",
    "plt.show()"
   ]
  },
  {
   "cell_type": "markdown",
   "id": "38519569",
   "metadata": {},
   "source": [
    "in this graph , the highest Total_claim_amount is 59400 among the others"
   ]
  },
  {
   "cell_type": "code",
   "execution_count": 67,
   "id": "6ada528f",
   "metadata": {
    "scrolled": false
   },
   "outputs": [
    {
     "data": {
      "image/png": "[encoded data removed]",
      "text/plain": [
       "<Figure size 640x480 with 1 Axes>"
      ]
     },
     "metadata": {},
     "output_type": "display_data"
    }
   ],
   "source": [
    "df['Total_claim_amount'].value_counts().nlargest(11).plot(kind='bar')\n",
    "plt.title('Count of Total claim ammount ')\n",
    "plt.xlabel('Total_claim_amount')\n",
    "plt.ylabel('Count')\n",
    "plt.show()"
   ]
  },
  {
   "cell_type": "code",
   "execution_count": 68,
   "id": "b63a40a1",
   "metadata": {},
   "outputs": [
    {
     "data": {
      "text/plain": [
       "Age\n",
       "19     1\n",
       "20     1\n",
       "21     6\n",
       "22     1\n",
       "23     7\n",
       "24    10\n",
       "25    14\n",
       "26    26\n",
       "27    24\n",
       "28    30\n",
       "29    35\n",
       "30    42\n",
       "31    42\n",
       "32    38\n",
       "33    39\n",
       "34    44\n",
       "35    32\n",
       "36    32\n",
       "37    41\n",
       "38    42\n",
       "39    48\n",
       "40    38\n",
       "41    45\n",
       "42    32\n",
       "43    49\n",
       "44    32\n",
       "45    26\n",
       "46    33\n",
       "47    24\n",
       "48    25\n",
       "49    14\n",
       "50    13\n",
       "51     9\n",
       "52     4\n",
       "53    13\n",
       "54    10\n",
       "55    14\n",
       "56     8\n",
       "57    16\n",
       "58     8\n",
       "59     5\n",
       "60     9\n",
       "61    10\n",
       "62     4\n",
       "63     2\n",
       "64     2\n",
       "dtype: int64"
      ]
     },
     "execution_count": 68,
     "metadata": {},
     "output_type": "execute_result"
    }
   ],
   "source": [
    "age = df.groupby(\"Age\")\n",
    "\n",
    "age.size()"
   ]
  },
  {
   "cell_type": "markdown",
   "id": "849d90af",
   "metadata": {},
   "source": [
    "this is a group about Policy_state \n",
    "\n",
    "\n",
    "\n",
    "in this group ...,\n",
    "\n",
    "the highest policy state illinois is 338 and \n",
    "\n",
    "the middlest policy state Ohio is 352 , \n",
    "\n",
    "the lowest policy state in is 310 , \n"
   ]
  },
  {
   "cell_type": "code",
   "execution_count": 69,
   "id": "90f6ec20",
   "metadata": {
    "scrolled": true
   },
   "outputs": [
    {
     "data": {
      "text/plain": [
       "Policy_state\n",
       "Illinois    338\n",
       "Ohio        352\n",
       "in          310\n",
       "dtype: int64"
      ]
     },
     "execution_count": 69,
     "metadata": {},
     "output_type": "execute_result"
    }
   ],
   "source": [
    "Policy_state = df.groupby(\"Policy_state\")\n",
    "\n",
    "Policy_state.size()"
   ]
  },
  {
   "cell_type": "code",
   "execution_count": 70,
   "id": "9fbd2e0b",
   "metadata": {
    "scrolled": false
   },
   "outputs": [
    {
     "data": {
      "image/png": "[encoded data removed]",
      "text/plain": [
       "<Figure size 640x480 with 1 Axes>"
      ]
     },
     "metadata": {},
     "output_type": "display_data"
    }
   ],
   "source": [
    "df['Policy_state'].value_counts().plot(kind='pie',autopct='%1.1f%%')\n",
    "plt.title('Policy state with its percentage')\n",
    "plt.show()"
   ]
  },
  {
   "cell_type": "markdown",
   "id": "5981d77f",
   "metadata": {},
   "source": [
    "this is a group about Incident_state\n",
    "\n",
    "in this group ...,\n",
    "\n",
    "the highest Incident state New York is 262 and\n",
    "\n",
    "the lowest Incident state West Verginia  is 217 "
   ]
  },
  {
   "cell_type": "code",
   "execution_count": 71,
   "id": "18e549f7",
   "metadata": {
    "scrolled": true
   },
   "outputs": [
    {
     "data": {
      "text/plain": [
       "Incident_state\n",
       "New York          262\n",
       "North Carolina    110\n",
       "Ohio               23\n",
       "Pennsylvania       30\n",
       "Sorth Carolina    248\n",
       "Virginia          110\n",
       "West Verginia     217\n",
       "dtype: int64"
      ]
     },
     "execution_count": 71,
     "metadata": {},
     "output_type": "execute_result"
    }
   ],
   "source": [
    "Incident_state = df.groupby(\"Incident_state\")\n",
    "\n",
    "Incident_state.size()"
   ]
  },
  {
   "cell_type": "code",
   "execution_count": 72,
   "id": "8dd7efe0",
   "metadata": {},
   "outputs": [
    {
     "data": {
      "image/png": "[encoded data removed]",
      "text/plain": [
       "<Figure size 640x480 with 1 Axes>"
      ]
     },
     "metadata": {},
     "output_type": "display_data"
    }
   ],
   "source": [
    "df['Incident_state'].value_counts().plot(kind='pie',autopct='%1.1f%%')\n",
    "plt.title('Insident state with its percentage')\n",
    "plt.show()"
   ]
  },
  {
   "cell_type": "markdown",
   "id": "7298f238",
   "metadata": {},
   "source": [
    "\n",
    "this is a group about Insured_gender\n",
    "\n",
    "in this group ...,\n",
    "\n",
    "the Insured genders are:\n",
    "\n",
    "the female is 537\n",
    "\n",
    "the male is 463\n"
   ]
  },
  {
   "cell_type": "code",
   "execution_count": 73,
   "id": "779e5692",
   "metadata": {},
   "outputs": [
    {
     "data": {
      "text/plain": [
       "Insured_gender\n",
       "FEMALE    537\n",
       "MALE      463\n",
       "dtype: int64"
      ]
     },
     "execution_count": 73,
     "metadata": {},
     "output_type": "execute_result"
    }
   ],
   "source": [
    "Insured_gender= df.groupby(\"Insured_gender\")\n",
    "\n",
    "Insured_gender.size()"
   ]
  },
  {
   "cell_type": "code",
   "execution_count": 74,
   "id": "ae7585f8",
   "metadata": {},
   "outputs": [
    {
     "data": {
      "image/png": "[encoded data removed]",
      "text/plain": [
       "<Figure size 640x480 with 1 Axes>"
      ]
     },
     "metadata": {},
     "output_type": "display_data"
    }
   ],
   "source": [
    "df['Insured_gender'].value_counts().plot(kind='pie',autopct='%1.1f%%')\n",
    "plt.title('Insured gender with its percentage')\n",
    "plt.show()"
   ]
  },
  {
   "cell_type": "markdown",
   "id": "38471289",
   "metadata": {},
   "source": [
    "in this, the groupby is used for type of Collision \n",
    "\n",
    "the ? is 178\n",
    "\n",
    "the Front Collision is 254\n",
    "\n",
    "the Rear Collision is 292\n",
    "\n",
    "the Side Collision is 276"
   ]
  },
  {
   "cell_type": "code",
   "execution_count": 75,
   "id": "3fa80bc9",
   "metadata": {},
   "outputs": [
    {
     "data": {
      "text/plain": [
       "Collision_type\n",
       "?                  178\n",
       "Front Collision    254\n",
       "Rear Collision     292\n",
       "Side Collision     276\n",
       "dtype: int64"
      ]
     },
     "execution_count": 75,
     "metadata": {},
     "output_type": "execute_result"
    }
   ],
   "source": [
    "Collision_type= df.groupby(\"Collision_type\")\n",
    "\n",
    "Collision_type.size()"
   ]
  },
  {
   "cell_type": "code",
   "execution_count": 76,
   "id": "d3fc6668",
   "metadata": {},
   "outputs": [
    {
     "data": {
      "image/png": "[encoded data removed]",
      "text/plain": [
       "<Figure size 640x480 with 1 Axes>"
      ]
     },
     "metadata": {},
     "output_type": "display_data"
    }
   ],
   "source": [
    "df['Incident_type'].value_counts().plot(kind='pie',autopct='%1.1f%%')\n",
    "plt.title('Insident type with its percentage')\n",
    "plt.show()"
   ]
  },
  {
   "cell_type": "markdown",
   "id": "fa6aea28",
   "metadata": {},
   "source": [
    "in this, the groupby is used for type of incident \n",
    "\n",
    "the Multi-vehicle Collision is 419\n",
    "\n",
    "the Parked Cars are 84\n",
    "\n",
    "the Single Vehicle Collision is 403\n",
    "\n",
    "the Vehicle Theft is 94\n"
   ]
  },
  {
   "cell_type": "code",
   "execution_count": 77,
   "id": "59ba00de",
   "metadata": {
    "scrolled": true
   },
   "outputs": [
    {
     "data": {
      "text/plain": [
       "Incident_type\n",
       "Multi-vehicle Collision     419\n",
       "Parked Car                   84\n",
       "Single Vehicle Collision    403\n",
       "Vehicle Theft                94\n",
       "dtype: int64"
      ]
     },
     "execution_count": 77,
     "metadata": {},
     "output_type": "execute_result"
    }
   ],
   "source": [
    "Incident_type= df.groupby(\"Incident_type\")\n",
    "\n",
    "Incident_type.size()"
   ]
  },
  {
   "cell_type": "code",
   "execution_count": 78,
   "id": "2332c930",
   "metadata": {},
   "outputs": [
    {
     "data": {
      "text/plain": [
       "Incident_city\n",
       "Arlington      152\n",
       "Columbus       149\n",
       "Hillsdale      141\n",
       "Northbend      145\n",
       "Northbrook     122\n",
       "Riverwood      134\n",
       "Springfield    157\n",
       "dtype: int64"
      ]
     },
     "execution_count": 78,
     "metadata": {},
     "output_type": "execute_result"
    }
   ],
   "source": [
    "Incident_city= df.groupby(\"Incident_city\")\n",
    "\n",
    "Incident_city.size()"
   ]
  },
  {
   "cell_type": "markdown",
   "id": "037a0a51",
   "metadata": {},
   "source": [
    "# Conclusion:\n",
    "\n",
    "In this project, I analyzed  the all  data  like the highest Incidents occurs in Springfield city  and it's count is 157 and also the lowest Incident occures in Northbrook city and it's count is 122.\n",
    "\n",
    "The Policy_annual_premium is 1230.69 and 1223.39 as compair to others\n",
    "\n",
    "The highest Incident state New York is 262 and The lowest Incident state West Verginia  is 217\n",
    "\n",
    "The Insured genders are: Female is 537 and Male is 463\n",
    "\n",
    "\n",
    "In this,  type of incident The Multi-vehicle Collision is 419 , the Parked Cars are 84,the Single Vehicle Collision is 403,the Vehicle Theft is 94\n",
    "\n",
    "\n",
    "In this, the groupby is used for type of Collision ,.the ? is 178, the Front Collision is 254, the Rear Collision is 292, the Side Collision is 276\n",
    "\n",
    "\n",
    "    \n"
   ]
  }
 ],
 "metadata": {
  "kernelspec": {
   "display_name": "Python 3 (ipykernel)",
   "language": "python",
   "name": "python3"
  },
  "language_info": {
   "codemirror_mode": {
    "name": "ipython",
    "version": 3
   },
   "file_extension": ".py",
   "mimetype": "text/x-python",
   "name": "python",
   "nbconvert_exporter": "python",
   "pygments_lexer": "ipython3",
   "version": "3.11.4"
  }
 },
 "nbformat": 4,
 "nbformat_minor": 5
}
